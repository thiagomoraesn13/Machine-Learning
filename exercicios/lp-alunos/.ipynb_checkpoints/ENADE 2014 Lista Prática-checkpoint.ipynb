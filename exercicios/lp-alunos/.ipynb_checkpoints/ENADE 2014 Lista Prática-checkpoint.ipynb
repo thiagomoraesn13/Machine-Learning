{
 "cells": [
  {
   "cell_type": "markdown",
   "metadata": {
    "colab_type": "text",
    "id": "nIRgZmiRRsy2"
   },
   "source": [
    "<table style=\"width: 100%; margin-left: auto; margin-right: auto; background-color: white;\">\n",
    "<tbody>\n",
    "<tr>\n",
    "\n",
    "<td style=\"text-align: center; width: 12%;\"><img src=imagens/brasil-brasao.png alt=\"\" /></td>\n",
    "\n",
    "<td style=\"width: 68%;\">\n",
    "<h2 style=\"text-align: center; margin-top: 1%;\">Rep&uacute;blica Federativa do Brasil</h2>\n",
    "<h2 style=\"text-align: center; margin-top: 1%;\">Minist&eacute;rio da Educa&ccedil;&atilde;o</h2>\n",
    "<h2 style=\"text-align: center; margin-top: 1%;\">Universidade Federal do Amazonas</h2>\n",
    "<h2 style=\"text-align: center; margin-top: 1%;\">Instituto de Computa&ccedil;&atilde;o</h2>\n",
    "</td>\n",
    "\n",
    "<td style=\"width: 12%;\"><img src=\"imagens/UFAM-logo.png\" alt=\"\" /></td>\n",
    "\n",
    "</tr>\n",
    "</tbody>\n",
    "</table>"
   ]
  },
  {
   "cell_type": "markdown",
   "metadata": {
    "colab_type": "text",
    "id": "WG84ndUcRsy3"
   },
   "source": [
    "# Aprendizado de Máquina e Mineração de Dados\n",
    "## Lista Prática de Análise de Dados"
   ]
  },
  {
   "cell_type": "markdown",
   "metadata": {
    "colab_type": "text",
    "id": "ZPsf6mKDRsy4"
   },
   "source": [
    "Professores _Marco Cristo_ e _Eulanda Santos_\n",
    "\n",
    "**Aluno**: Thiago Moraes "
   ]
  },
  {
   "cell_type": "code",
   "execution_count": 0,
   "metadata": {
    "colab": {
     "autoexec": {
      "startup": false,
      "wait_interval": 0
     }
    },
    "colab_type": "code",
    "id": "4AgXV6vZRsy5"
   },
   "outputs": [],
   "source": []
  },
  {
   "cell_type": "markdown",
   "metadata": {
    "colab_type": "text",
    "id": "fDgJODoiRsy-"
   },
   "source": [
    "__Introdução__: Neste trabalho, vamos analisar dados do INEP sobre o ENADE 2014. Estes dados estão organizados em duas releções: (1) as informações do candidato necessárias para realizar a prova, além das suas notas; e (2) respostas que os candidatos deram a questionários sobre a prova, seus dados pessoais e curso realizado. Em anexo, ao fim deste notebook, temos uma descrição detalhada das informações obtidas. "
   ]
  },
  {
   "cell_type": "markdown",
   "metadata": {
    "colab_type": "text",
    "id": "RuSWaPqmRsy_"
   },
   "source": [
    "#### Preliminares"
   ]
  },
  {
   "cell_type": "code",
   "execution_count": 0,
   "metadata": {
    "colab": {
     "autoexec": {
      "startup": false,
      "wait_interval": 0
     }
    },
    "colab_type": "code",
    "id": "MTTbAGCMTnn1"
   },
   "outputs": [],
   "source": [
    "#!apt-get install -y -qq software-properties-common python-software-properties module-init-tools\n",
    "#!add-apt-repository -y ppa:alessandro-strada/ppa 2>&1 > /dev/null\n",
    "#!apt-get update -qq 2>&1 > /dev/null\n",
    "#!apt-get -y install -qq google-drive-ocamlfuse fuse\n",
    "#from google.colab import auth\n",
    "#auth.authenticate_user()\n",
    "#from oauth2client.client import GoogleCredentials\n",
    "#creds = GoogleCredentials.get_application_default()\n",
    "#import getpass\n",
    "#!google-drive-ocamlfuse -headless -id={creds.client_id} -secret={creds.client_secret} < /dev/null 2>&1 | grep URL\n",
    "#vcode = getpass.getpass()\n",
    "#!echo {vcode} | google-drive-ocamlfuse -headless -id={creds.client_id} -secret={creds.client_secret}"
   ]
  },
  {
   "cell_type": "code",
   "execution_count": 0,
   "metadata": {
    "colab": {
     "autoexec": {
      "startup": false,
      "wait_interval": 0
     }
    },
    "colab_type": "code",
    "id": "XX7y3qZyTy7v"
   },
   "outputs": [],
   "source": [
    "#!mkdir -p drive\n",
    "#!google-drive-ocamlfuse drive"
   ]
  },
  {
   "cell_type": "code",
   "execution_count": 2,
   "metadata": {
    "colab": {
     "autoexec": {
      "startup": false,
      "wait_interval": 0
     }
    },
    "colab_type": "code",
    "id": "QdeTRCD7RszA"
   },
   "outputs": [],
   "source": [
    "import pandas as pd\n",
    "import numpy as np\n",
    "import matplotlib.pyplot as plt\n",
    "\n",
    "%matplotlib inline"
   ]
  },
  {
   "cell_type": "code",
   "execution_count": 3,
   "metadata": {
    "colab": {
     "autoexec": {
      "startup": false,
      "wait_interval": 0
     }
    },
    "colab_type": "code",
    "id": "1A1PNrVHRszC"
   },
   "outputs": [],
   "source": [
    "#egeral = pd.read_csv('drive/lp-alunos/enade2014geral.csv')\n",
    "#equest = pd.read_csv('drive/lp-alunos/enade2014questionario.csv')\n",
    "egeral = pd.read_csv('enade2014geral.csv')\n",
    "equest = pd.read_csv('enade2014questionario.csv')"
   ]
  },
  {
   "cell_type": "markdown",
   "metadata": {
    "colab_type": "text",
    "id": "MxYZj3BLRszF"
   },
   "source": [
    "#### Análise de valores faltantes"
   ]
  },
  {
   "cell_type": "markdown",
   "metadata": {
    "colab_type": "text",
    "id": "K-iwIp4IRszG"
   },
   "source": [
    "<div class=\"alert alert-info\">\n",
    "<b>1</b> - Que colunas possuem campos nulos em **egeral** e **equest**?\n",
    "</div>"
   ]
  },
  {
   "cell_type": "code",
   "execution_count": 0,
   "metadata": {
    "colab": {
     "autoexec": {
      "startup": false,
      "wait_interval": 0
     }
    },
    "colab_type": "code",
    "id": "5IaeuJvQRszH"
   },
   "outputs": [],
   "source": []
  },
  {
   "cell_type": "markdown",
   "metadata": {
    "colab_type": "text",
    "id": "kikVFWEvRszJ"
   },
   "source": [
    "<div class=\"alert alert-info\">\n",
    "<b>2</b> - Substitua dados faltantes por valores razoáveis. No caso dos questionários, as colunas até QE_I26 podem ser substituídas por um 'Z'. As colunas após a QE_I26 podem ser substituídas por 7 (7 = _Não sei responder_).\n",
    "</div>"
   ]
  },
  {
   "cell_type": "code",
   "execution_count": 0,
   "metadata": {
    "colab": {
     "autoexec": {
      "startup": false,
      "wait_interval": 0
     }
    },
    "colab_type": "code",
    "id": "0B1k3_aNRszK"
   },
   "outputs": [],
   "source": []
  },
  {
   "cell_type": "markdown",
   "metadata": {
    "colab_type": "text",
    "id": "0vHUfOqnRszN"
   },
   "source": [
    "#### Combinando dados"
   ]
  },
  {
   "cell_type": "markdown",
   "metadata": {
    "colab_type": "text",
    "id": "1TE1n2DnRszN"
   },
   "source": [
    "<div class=\"alert alert-info\">\n",
    "<b>3</b> - Crie uma nova relação, **e2014**, com todas as colunas de **egeral** e **equest**. Note que cada linha em **egeral** corresponde a uma linha de **equest**.\n",
    "</div>"
   ]
  },
  {
   "cell_type": "code",
   "execution_count": 0,
   "metadata": {
    "colab": {
     "autoexec": {
      "startup": false,
      "wait_interval": 0
     }
    },
    "colab_type": "code",
    "id": "3SfWkBSYRszO"
   },
   "outputs": [],
   "source": []
  },
  {
   "cell_type": "markdown",
   "metadata": {
    "colab_type": "text",
    "id": "eJpBym1LRszR"
   },
   "source": [
    "#### Consultando os dados e comparando distribuições"
   ]
  },
  {
   "cell_type": "markdown",
   "metadata": {
    "colab_type": "text",
    "id": "vl-6fAgURszS"
   },
   "source": [
    "<div class=\"alert alert-info\">\n",
    "<b>4</b> - Considerando as distribuições de notas, quem se saiu melhor, os alunos do turno vespertino ou noturno? Há mais alunos estudando ao dia ou à noite? _Dica_: use a opção normed = True (ou density = True) de plt.hist(...) para ver histogramas com valores normalizados. Sem normalização, é fácil determinar o tamanho das populações. Com normalização, é fácil ver diferenças entre elas.\n",
    "</div> "
   ]
  },
  {
   "cell_type": "code",
   "execution_count": 0,
   "metadata": {
    "colab": {
     "autoexec": {
      "startup": false,
      "wait_interval": 0
     }
    },
    "colab_type": "code",
    "id": "J4WUxx81RszV"
   },
   "outputs": [],
   "source": []
  },
  {
   "cell_type": "markdown",
   "metadata": {
    "colab_type": "text",
    "id": "yMSEE1OYRszX"
   },
   "source": [
    "<div class=\"alert alert-info\">\n",
    "<b>5</b> - Em geral, o MEC acredita que não há importantes diferenças de desepenho entre alunos quotistas e não quotistas. Este é o caso para o curso de Ciência da Computação (CO_GRUPO = 4004), considerando as distribuições de notas dos dois grupos? _Dica_: não são quotistas os alunos que responderam A à pergunta QE_I15.\n",
    "</div>"
   ]
  },
  {
   "cell_type": "code",
   "execution_count": 0,
   "metadata": {
    "colab": {
     "autoexec": {
      "startup": false,
      "wait_interval": 0
     }
    },
    "colab_type": "code",
    "id": "nwMs66wiRszY"
   },
   "outputs": [],
   "source": []
  },
  {
   "cell_type": "markdown",
   "metadata": {
    "colab_type": "text",
    "id": "STnpjNpKRszd"
   },
   "source": [
    "<div class=\"alert alert-info\">\n",
    "<b>6</b> - Como se comparam os desempenhos dos alunos de instituíções públicas, privadas sem fim lucrativo e privadas com fim lucrativo?\n",
    "</div>"
   ]
  },
  {
   "cell_type": "code",
   "execution_count": 0,
   "metadata": {
    "colab": {
     "autoexec": {
      "startup": false,
      "wait_interval": 0
     }
    },
    "colab_type": "code",
    "id": "ugLWNS8yRszf"
   },
   "outputs": [],
   "source": []
  },
  {
   "cell_type": "markdown",
   "metadata": {
    "colab_type": "text",
    "id": "m4_sCcKkRszj"
   },
   "source": [
    "#### Cruzando dados"
   ]
  },
  {
   "cell_type": "markdown",
   "metadata": {
    "colab_type": "text",
    "id": "zvcXUNYoRszl"
   },
   "source": [
    "Os motivos elencados para descrever o que leva um candidato a escolher seu curso de computação (QE_I25) incluem:\n",
    "\n",
    "A = Inserção no mercado de trabalho.<br>B = Influência familiar.<br>C = Valorização profissional.<br>D = Prestígio Social.<br>E = Vocação.<br>F = Oferecimento do curso na modalidade a distância.<br>G = Baixa concorrência para ingresso.<br>H = Outro motivo. \n",
    "\n",
    "<div class=\"alert alert-info\">\n",
    "<b>7</b> - Cruze a informação sobre o curso do aluno (CO_GRUPO) com a resposta dada a esta pergunta (QE_I25), de forma a obter, para os motivos A, C, E e H, o percentual de alunos que os escolheram, de acordo com os cursos realizados.\n",
    "</div>"
   ]
  },
  {
   "cell_type": "code",
   "execution_count": 0,
   "metadata": {
    "colab": {
     "autoexec": {
      "startup": false,
      "wait_interval": 0
     }
    },
    "colab_type": "code",
    "collapsed": true,
    "id": "0oYcTBXERszm"
   },
   "outputs": [],
   "source": []
  },
  {
   "cell_type": "markdown",
   "metadata": {
    "colab_type": "text",
    "id": "tplz5DbrRszp"
   },
   "source": [
    "Considerando as seguintes faixas de renda (QE_I08):\n",
    "\n",
    "A = Até 1,5 salário mínimo (até R\\$ 1.086,00).<br>B = De 1,5 a 3 salários mínimos (R\\$ 1.086,01 a R\\$ 2.172,00).<br>C = De 3 a 4,5 salários mínimos (R\\$ 2.172,01 a R\\$ 3.258,00).<br>D = De 4,5 a 6 salários mínimos (R\\$ 3.258,01 a R\\$ 4.344,00).<br>E = De 6 a 10 salários mínimos (R\\$ 4.344,01 a R\\$ 7.240,00).<br>F = De 10 a 30 salários mínimos (R\\$ 7.240,01 a R\\$ 21.720,00).<br>G = Acima de 30 salários mínimos (mais de R\\$ 21.720,01).\n",
    "\n",
    "<div class=\"alert alert-info\">\n",
    "<b>8</b> - É verdade que, quando comparado às instituíções privadas, estão nos cursos de computação das universidades federais tanto os estudantes mais pobres quanto os mais ricos do país?\n",
    "</div>"
   ]
  },
  {
   "cell_type": "code",
   "execution_count": 0,
   "metadata": {
    "colab": {
     "autoexec": {
      "startup": false,
      "wait_interval": 0
     }
    },
    "colab_type": "code",
    "collapsed": true,
    "id": "t9GHQ0UnRszq"
   },
   "outputs": [],
   "source": []
  },
  {
   "cell_type": "markdown",
   "metadata": {
    "colab_type": "text",
    "id": "KDzYsiN9Rszv"
   },
   "source": [
    "#### Obtendo valor consolidado sobre dados cruzados (pivô)"
   ]
  },
  {
   "cell_type": "markdown",
   "metadata": {
    "colab_type": "text",
    "id": "zmDdqvIhRszv"
   },
   "source": [
    "Considerando como foi o ensino médio dos alunos, de acordo com as opções em QE_I17:\n",
    "\n",
    "A = Todo em escola pública.<br>B = Todo em escola privada (particular).<br>C = Todo no exterior.<br>D = A maior parte em escola pública.<br>E = A maior parte em escola privada (particular).<br>F = Parte no Brasil e parte no exterior.\n",
    "\n",
    "<div class=\"alert alert-info\">\n",
    "<b>9</b> - Qual a nota geral média dos alunos, de acordo com a forma como ele cursou ensino médio?\n",
    "</div>"
   ]
  },
  {
   "cell_type": "code",
   "execution_count": 0,
   "metadata": {
    "colab": {
     "autoexec": {
      "startup": false,
      "wait_interval": 0
     }
    },
    "colab_type": "code",
    "collapsed": true,
    "id": "XKZk04dwRszx"
   },
   "outputs": [],
   "source": []
  },
  {
   "cell_type": "markdown",
   "metadata": {
    "colab_type": "text",
    "id": "8-w_KmiyRsz0"
   },
   "source": [
    "Dadas as regiões do país de acordo com CO_REGIAO_CURSO:\n",
    "\n",
    "1 = Norte<br>2 = Nordeste<br>3 = Sudeste<br>4 = Sul<br>5 = Centro-Oeste\n",
    "\n",
    "<div class=\"alert alert-info\">\n",
    "<b>10</b> - Qual a nota geral média dos alunos, de acordo com sua renda, por região?\n",
    "</div>"
   ]
  },
  {
   "cell_type": "code",
   "execution_count": 0,
   "metadata": {
    "colab": {
     "autoexec": {
      "startup": false,
      "wait_interval": 0
     }
    },
    "colab_type": "code",
    "collapsed": true,
    "id": "h7ucCgsMRsz1"
   },
   "outputs": [],
   "source": []
  },
  {
   "cell_type": "markdown",
   "metadata": {
    "colab_type": "text",
    "id": "xOUgyBT8Rsz5"
   },
   "source": [
    "#### Agrupando e ordenando dados"
   ]
  },
  {
   "cell_type": "markdown",
   "metadata": {
    "colab_type": "text",
    "id": "NZTz4YIZRsz6"
   },
   "source": [
    "<div class=\"alert alert-info\">\n",
    "<b>11</b> - Qual o ranking dos estados de acordo com a nota média obtida por alunos de Ciência da Computação (curso 4004), considerando apenas instituições públicas?\n",
    "</div>"
   ]
  },
  {
   "cell_type": "code",
   "execution_count": 0,
   "metadata": {
    "colab": {
     "autoexec": {
      "startup": false,
      "wait_interval": 0
     }
    },
    "colab_type": "code",
    "collapsed": true,
    "id": "U5G68OlERsz7"
   },
   "outputs": [],
   "source": []
  },
  {
   "cell_type": "markdown",
   "metadata": {
    "colab_type": "text",
    "id": "dcNDt9KMRsz9"
   },
   "source": [
    "#### Comportamentos anômalos"
   ]
  },
  {
   "cell_type": "markdown",
   "metadata": {
    "colab_type": "text",
    "id": "4ISZjvqfRsz9"
   },
   "source": [
    "<div class=\"alert alert-info\">\n",
    "<b>12</b> - A idade do aluno é caracterizada por anomalias em sua distribuição?\n",
    "</div>"
   ]
  },
  {
   "cell_type": "code",
   "execution_count": 0,
   "metadata": {
    "colab": {
     "autoexec": {
      "startup": false,
      "wait_interval": 0
     }
    },
    "colab_type": "code",
    "collapsed": true,
    "id": "5Kvxjb0dRsz-"
   },
   "outputs": [],
   "source": []
  },
  {
   "cell_type": "markdown",
   "metadata": {
    "colab_type": "text",
    "id": "TOkHMHlmRs0A"
   },
   "source": [
    "#### Engenharia de atributos"
   ]
  },
  {
   "cell_type": "markdown",
   "metadata": {
    "colab_type": "text",
    "id": "P9cgyqvnRs0C"
   },
   "source": [
    "As questões QE_I27 a QE_I68 nos permitem avaliar quão boa é a instituição de acordo com a visão dos estudantes. Ela deve ser calculada como:\n",
    "\n",
    "NT_INST = $\\frac{1}{N} \\sum_{i=27}^{68} \\frac{f(\\text{QE_I}_i) - 1}{5}$\n",
    "\n",
    "onde $f$ é uma função que retorna o valor de QE_I$_i$ se ele estiver entre 1 a 6; ela retorna 1, caso contrário. $N$ é o total de questões, entre QE_I27 a QE_I68, que tiveram nota entre 1 a 6.\n",
    "\n",
    "<div class=\"alert alert-info\">\n",
    "<b>13</b> - Seguindo a definição dada, crie a coluna NT_INST que reflete a nota que cada estudante daria para a instituição. \n",
    "</div>    "
   ]
  },
  {
   "cell_type": "code",
   "execution_count": 0,
   "metadata": {
    "colab": {
     "autoexec": {
      "startup": false,
      "wait_interval": 0
     }
    },
    "colab_type": "code",
    "collapsed": true,
    "id": "waBBt_VBRs0C"
   },
   "outputs": [],
   "source": []
  },
  {
   "cell_type": "markdown",
   "metadata": {
    "colab_type": "text",
    "id": "R26K4KXURs0E"
   },
   "source": [
    "#### Preparando dados para classificação"
   ]
  },
  {
   "cell_type": "markdown",
   "metadata": {
    "colab_type": "text",
    "id": "gMHL5rIWRs0E"
   },
   "source": [
    "Queremos tentar prever a nota de um aluno apartir das seguintes informações:\n",
    "\n",
    "* CO_CATEGAD, CO_ORGACAD, CO_UF_CURSO, CO_GRUPO (binário) \n",
    "* NU_IDADE, TP_SEXO (binário), IN_MATUT (binário), IN_VESPER (binário), IN_NOTURNO (binário) \n",
    "* QE_I01, QE_I02, QE_I03, QE_I04, QE_I05, QE_I06, QE_I07, QE_I08, QE_I09, QE_I10, QE_I11, QE_I12, QE_I13, QE_I14, QE_I15, QE_I17, QE_I18, QE_I19, QE_I20, QE_I21, QE_I22, QE_I23, QE_I24, QE_I25, QE_I26 \n",
    "* NT_INST\n",
    "\n",
    "<div class=\"alert alert-info\">\n",
    "<b>14</b> - Prepare os dados para aprendizado, convertendo strings (CO_UF_CURSO e TP_SEXO) para dados categóricos, dados categóricos não binários para hot-vectors e padronizando dados numéricos usando Z-score.\n",
    "</div> "
   ]
  },
  {
   "cell_type": "code",
   "execution_count": 0,
   "metadata": {
    "colab": {
     "autoexec": {
      "startup": false,
      "wait_interval": 0
     }
    },
    "colab_type": "code",
    "collapsed": true,
    "id": "V1_6EXrrRs0F"
   },
   "outputs": [],
   "source": []
  },
  {
   "cell_type": "markdown",
   "metadata": {
    "colab_type": "text",
    "id": "hIqezCgiRs0H"
   },
   "source": [
    "## Questão bônus \n",
    "### Classificação"
   ]
  },
  {
   "cell_type": "markdown",
   "metadata": {
    "colab_type": "text",
    "id": "hoS2pnBxRs0H"
   },
   "source": [
    "Se você gerou os dados corretamente, você pode agora tentar prever, dado um aluno, se ele vai passar ou não no ENADE:"
   ]
  },
  {
   "cell_type": "code",
   "execution_count": 0,
   "metadata": {
    "colab": {
     "autoexec": {
      "startup": false,
      "wait_interval": 0
     }
    },
    "colab_type": "code",
    "id": "ofUXMD5VRs0I"
   },
   "outputs": [],
   "source": [
    "from sklearn.model_selection import train_test_split\n",
    "from sklearn.ensemble import RandomForestClassifier"
   ]
  },
  {
   "cell_type": "code",
   "execution_count": 0,
   "metadata": {
    "colab": {
     "autoexec": {
      "startup": false,
      "wait_interval": 0
     }
    },
    "colab_type": "code",
    "id": "NK3AExhqRs0L"
   },
   "outputs": [],
   "source": [
    "Y = e2014.NT_GER.apply(lambda v: 0 if v < 50 else 1)"
   ]
  },
  {
   "cell_type": "code",
   "execution_count": 0,
   "metadata": {
    "colab": {
     "autoexec": {
      "startup": false,
      "wait_interval": 0
     }
    },
    "colab_type": "code",
    "id": "Ks2bGTttRs0O"
   },
   "outputs": [],
   "source": [
    "X_train, X_test, y_train, y_test = train_test_split(X.values, Y.values, test_size=0.10)"
   ]
  },
  {
   "cell_type": "code",
   "execution_count": 0,
   "metadata": {
    "colab": {
     "autoexec": {
      "startup": false,
      "wait_interval": 0
     }
    },
    "colab_type": "code",
    "id": "9R_qS0WORs0S"
   },
   "outputs": [],
   "source": [
    "clf = RandomForestClassifier(n_estimators = 300, max_depth=5, random_state=0)"
   ]
  },
  {
   "cell_type": "code",
   "execution_count": 0,
   "metadata": {
    "colab": {
     "autoexec": {
      "startup": false,
      "wait_interval": 0
     }
    },
    "colab_type": "code",
    "id": "2bzlbZNkRs0U"
   },
   "outputs": [],
   "source": [
    "clf.fit(X_train, y_train)"
   ]
  },
  {
   "cell_type": "code",
   "execution_count": 0,
   "metadata": {
    "colab": {
     "autoexec": {
      "startup": false,
      "wait_interval": 0
     }
    },
    "colab_type": "code",
    "id": "MDaiQIypRs0W"
   },
   "outputs": [],
   "source": [
    "clf.score(X_test, y_test) "
   ]
  },
  {
   "cell_type": "code",
   "execution_count": 0,
   "metadata": {
    "colab": {
     "autoexec": {
      "startup": false,
      "wait_interval": 0
     }
    },
    "colab_type": "code",
    "id": "Dv76NukaRs0Z"
   },
   "outputs": [],
   "source": [
    "from sklearn.metrics import confusion_matrix\n",
    "y_pred = clf.predict(X_test)\n",
    "confusion_matrix(y_test, y_pred)"
   ]
  },
  {
   "cell_type": "code",
   "execution_count": 0,
   "metadata": {
    "colab": {
     "autoexec": {
      "startup": false,
      "wait_interval": 0
     }
    },
    "colab_type": "code",
    "id": "8FN9hYDNRs0d"
   },
   "outputs": [],
   "source": [
    "attrs = list(X.columns.values)\n",
    "importances = clf.feature_importances_\n",
    "indices = np.argsort(importances)[::-1]\n",
    "\n",
    "# Print the feature ranking\n",
    "print(\"Feature ranking:\")\n",
    "\n",
    "for f in range(10):\n",
    "    if importances[indices[f]] > 0:\n",
    "        print(\"%d. %f -- %s\" % (f + 1, importances[indices[f]], attrs[indices[f]]))"
   ]
  },
  {
   "cell_type": "markdown",
   "metadata": {
    "colab_type": "text",
    "id": "7O8iU0kWRs0g"
   },
   "source": [
    "<div class=\"alert alert-info\">\n",
    "<b>15</b> - Que atributos a RandomForest julgou mais relevantes para determinar se o aluno vai ou não passar?\n",
    "</div>"
   ]
  },
  {
   "cell_type": "code",
   "execution_count": 0,
   "metadata": {
    "colab": {
     "autoexec": {
      "startup": false,
      "wait_interval": 0
     }
    },
    "colab_type": "code",
    "id": "x0DQ0_VuRs0h"
   },
   "outputs": [],
   "source": []
  },
  {
   "cell_type": "markdown",
   "metadata": {
    "colab_type": "text",
    "id": "mrI76K-3Rs0l"
   },
   "source": [
    "## ANEXO: Dicionário de Dados"
   ]
  },
  {
   "cell_type": "markdown",
   "metadata": {
    "colab_type": "text",
    "id": "88j4U88sRs0m"
   },
   "source": [
    "## Informações Gerais"
   ]
  },
  {
   "cell_type": "markdown",
   "metadata": {
    "colab_type": "text",
    "id": "70e2hxmSRs0m"
   },
   "source": [
    "**Dados da IES**\n",
    "\n",
    "| **Coluna** | **Descrição** | **Valores** |\n",
    "|--:|:--|:--|\n",
    "| CO_IES | Código da IES (e-Mec) |  |\n",
    "| CO_CATEGAD | Código da categoria administrativa da IES | 10002 = Pessoa Jurídica de Direito Público - Federal<br>10005 = Privada com fins lucrativos<br>10008 = Privada sem fins lucrativos |\n",
    "| CO_ORGACAD | Código da organização acadêmica da IES | 10020 = Centro Universitário<br>10022 = Faculdade<br>10026 = Instituto Federal de Educação, Ciência e Tecnologia<br>10028 = Universidade |\n",
    "| CO_GRUPO | Código da área de enquadramento do curso no Enade | 4004 = CIÊNCIA DA COMPUTAÇÃO (BACHARELADO)<br> 4006 = SISTEMAS DE INFORMAÇÃO |\n",
    "| CO_UF_CURSO | Código da UF de funcionamento do curso | SP MG RS RJ SC PR PE DF BA CE GO AM PA PB MA ES MT PI MS AL RO TO SE RN AC RR AP | \n",
    "| CO_REGIAO_CURSO | Código da região de funcionamento do curso | 1 = Norte<br>2 = Nordeste<br>3 = Sudeste<br>4 = Sul<br>5 = Centro-Oeste |"
   ]
  },
  {
   "cell_type": "markdown",
   "metadata": {
    "colab_type": "text",
    "id": "6H9C6PKpRs0n"
   },
   "source": [
    "**Dados dos Participantes**\n",
    "\n",
    "| **Coluna** | **Descrição** | **Valores** |\n",
    "|--:|:--|:--|\n",
    "| NU_IDADE | Idade do inscrito em 23/11/2014 |  |\n",
    "| TP_SEXO | Sexo | M = Masculino <br>F = Feminino |\n",
    "| ANO_FIM_2G | Ano de conclusão do Ensino Médio |  |\n",
    "| ANO_IN_GRAD | Ano de início da graduação |  |\n",
    "| IN_MATUT | Indicador de turno matutino | 0 = Não <br>1 = Sim |\n",
    "| IN_VESPER | Indicador de turno vespertino | 0 = Não <br>1 = Sim |\n",
    "| IN_NOTURNO | Indicador de turno noturno | 0 = Não <br>1 = Sim |\n"
   ]
  },
  {
   "cell_type": "markdown",
   "metadata": {
    "colab_type": "text",
    "id": "g9EZ5Zs4Rs0n"
   },
   "source": [
    "**Notas dos Participantes**\n",
    "\n",
    "| **Coluna** | **Descrição** |\n",
    "|--:|:--|\n",
    "| NT_GER | Nota bruta da prova - Média ponderada da formação geral (25%) e componente específico (75%). (valor de 0 a 100) |\n",
    "| NT_FG | Nota bruta na formação geral - Média ponderada da parte objetiva (60%) e discursiva (40%) na formação geral.(valor de 0 a 100) |\n",
    "| NT_OBJ_FG | Nota bruta na parte objetiva da formação geral. (valor de 0 a 100) |\n",
    "| NT_DIS_FG | Nota bruta na parte discursiva da formação geral. (valor de 0 a 100) |\n",
    "| NT_FG_D1 | Nota da questão 1 da parte discursiva da formação geral - Média ponderada da parte de Língua Portuguesa (20%) e Conteúdo (80%) da Questão 1 da parte discursiva. (valor de 0 a 100) |\n",
    "| NT_FG_D1_PT | Nota de Língua Portuguesa da questão 1 da parte discursiva da formação geral. (valor de 0 a 100) |\n",
    "| NT_FG_D1_CT | Nota de Conteúdo da questão 1 da parte discursiva da formação geral. (valor de 0 a 100)  |\n",
    "| NT_FG_D2 | Nota da questão 2 da parte discursiva na formação geral - Média ponderada da parte de Língua Portuguesa (20%) e Conteúdo (80%) da Questão 2 da parte discursiva. (valor de 0 a 100) |\n",
    "| NT_FG_D2_PT | Nota de Língua Portuguesa da questão 2 da parte discursiva da formação geral.(valor de 0 a 100)  |\n",
    "| NT_FG_D2_CT | Nota de Conteúdo da questão 2 da parte discursiva da formação geral. (valor de 0 a 100)  |\n",
    "| NT_CE | Nota bruta no componente específico - Média ponderada da parte objetiva (85%) e discursiva (15%) no componente específico. (valor de 0 a 100) |\n",
    "| NT_OBJ_CE | Nota bruta na parte objetiva do componente específico. (valor de 0 a 100)  |\n",
    "| NT_DIS_CE | Nota bruta na parte discursiva do componente específico. (valor de 0 a 100) |\n",
    "| NT_CE_D1 | Nota da questão 1 da parte discursiva do componente específico. (valor de 0 a 100)  |\n",
    "| NT_CE_D2 | Nota da questão 2 da parte discursiva do componente específico. (valor de 0 a 100)  |\n",
    "| NT_CE_D3 | Nota da questão 3 da parte discursiva do componente específico. (valor de 0 a 100)  |"
   ]
  },
  {
   "cell_type": "markdown",
   "metadata": {
    "colab_type": "text",
    "id": "OXb3gI3vRs0p"
   },
   "source": [
    "## Respostas aos Questionários"
   ]
  },
  {
   "cell_type": "markdown",
   "metadata": {
    "colab_type": "text",
    "id": "DbuD-MOWRs0p"
   },
   "source": [
    "**Questionário sobre a prova**\n",
    "\n",
    "| **Coluna** | **Descrição** | **Valores** |\n",
    "|--:|:--|:--|\n",
    "| CO_RS_I1 | 1 - Qual o grau de dificuldade desta prova na parte de Formação Geral? | A = Muito fácil.<br>B = Fácil.<br>C = Médio.<br>D = Difícil.<br>E = Muito difícil.<br>* = Resposta anulada<br>. = Não respondeu |\n",
    "| CO_RS_I2 | 2 - Qual o grau de dificuldade desta prova na parte do Componente Específico? | A = Muito fácil.<br>B = Fácil.<br>C = Médio.<br>D = Difícil.<br>E = Muito difícil.<br>* = Resposta anulada<br>. = Não respondeu |\n",
    "| CO_RS_I3 | 3 - Considerando a extensão da prova, em relação ao tempo total, você considera que a prova foi: | A = Muito longa.<br>B = Longa.<br>C = Adequada.<br>D = Curta.<br>E = Muito curta.<br>* = Resposta anulada<br>. = Não respondeu |\n",
    "| CO_RS_I4 | 4 - Os enunciados das questões da prova na parte de Formação Geral estavam claros e objetivos? | A = Muito fácil.<br>B = Fácil.<br>C = Médio.<br>D = Difícil.<br>E = Muito difícil.<br>* = Resposta anulada<br>. = Não respondeu |\n",
    "| CO_RS_I5 | 5 - Os enunciados das questões na parte do Componente Específico estavam claros e objetivos? | A = Muito fácil.<br>B = Fácil.<br>C = Médio.<br>D = Difícil.<br>E = Muito difícil.<br>* = Resposta anulada<br>. = Não respondeu |\n",
    "| CO_RS_I6 | 6 - As informações/instruções fornecidas para a resolução das questões foram suficientes para resolvê-las? | A = Sim, até excessivas.<br>B = Sim, em todas elas.<br>C = Sim, na maioria delas.<br>D = Sim, somente em algumas.<br>E = Não, em nenhuma delas.<br>* = Resposta anulada<br>. = Não respondeu |\n",
    "| CO_RS_I7 | 7 - Você se deparou com alguma dificuldade ao responder à prova. Qual? | A = Desconhecimento do conteúdo.<br>B = Forma diferente de abordagem do conteúdo.<br>C = Espaço insuficiente para responder às questões.<br>D = Falta de motivação para fazer a prova.<br>E = Não tive qualquer tipo de dificuldade para responder à prova.<br>* = Resposta anulada<br>. = Não respondeu |\n",
    "| CO_RS_I8 | 8 - Considerando apenas as questões objetivas da prova, você percebeu que: | A = Não estudou ainda a maioria desses conteúdos.<br>B = Estudou alguns desses conteúdos, mas não os aprendeu.<br>C = Estudou a maioria desses conteúdos, mas não os aprendeu.<br>D = Estudou e aprendeu muitos desses conteúdos.<br>E = Estudou e aprendeu todos esses conteúdos.<br>* = Resposta anulada<br>. = Não respondeu |\n",
    "| CO_RS_I9 | 9 - Qual foi o tempo gasto por você para concluir a prova? | A = Menos de uma hora.<br>B = Entre uma e duas horas.<br>C = Entre duas e três horas.<br>D = Entre três e quatro horas.<br>E = Quatro horas e não consegui terminar.<br>* = Resposta anulada<br>. = Não respondeu |"
   ]
  },
  {
   "cell_type": "markdown",
   "metadata": {
    "colab_type": "text",
    "id": "kZNK6_guRs0p"
   },
   "source": [
    "**Questionário sobre o candidato**\n",
    "\n",
    "| **Coluna** | **Descrição** | **Valores** |\n",
    "|--:|:--|:--|\n",
    "| QE_I01 | Qual o seu estado civil? | A = Solteiro(a).<br>B = Casado(a).<br>C = Separado(a) judicialmente/divorciado(a).<br>D = Viúvo(a).<br>E = Outro. |\n",
    "| QE_I02 | Como você se considera? | A = Branco(a).<br>B = Negro(a).<br>C = Pardo(a)/mulato(a).<br>D = Amarelo(a) (de origem oriental).<br>E = Indígena ou de origem indígena. |\n",
    "| QE_I03 | Qual a sua nacionalidade? | A = Brasileira.<br>B = Brasileira naturalizada.<br>C = Estrangeira. |\n",
    "| QE_I04 | Até que etapa de escolarização seu pai concluiu? | A = Nenhuma.<br>B = Ensino Fundamental: 1º ao 5º ano (1ª a 4ª série).<br>C = Ensino Fundamental: 6º ao 9º ano (5ª a 8ª série).<br>D = Ensino Médio.<br>E = Ensino Superior - Graduação.<br>F = Pós-graduação. |\n",
    "| QE_I05 | Até que etapa de escolarização sua mãe concluiu? | A = Nenhuma.<br>B = Ensino fundamental: 1º ao 5º ano (1ª a 4ª série).<br>C = Ensino fundamental: 6º ao 9º ano (5ª a 8ª série).<br>D = Ensino médio.<br>E = Ensino Superior - Graduação.<br>F = Pós-graduação. |\n",
    "| QE_I06 | Onde e com quem você mora atualmente? | A = Em casa ou apartamento, sozinho.<br>B = Em casa ou apartamento, com pais e/ou parentes.<br>C = Em casa ou apartamento, com cônjuge e/ou filhos.<br>D = Em casa ou apartamento, com outras pessoas (incluindo república).<br>E = Em alojamento universitário da própria instituição.<br>F = Em outros tipos de habitação individual ou coletiva (hotel, hospedaria, pensão ou outro) |\n",
    "| QE_I07 | Quantas pessoas da sua família moram com você? Considere seus pais, irmãos, cônjuge, filhos e outros parentes que moram na mesma casa com você. | A = Nenhuma.<br>B = Uma.<br>C = Duas.<br>D = Três.<br>E = Quatro.<br>F = Cinco.<br>G = Seis.<br>H = Sete ou mais. |\n",
    "| QE_I08 | Qual a renda total de sua família, incluindo seus rendimentos? | A = Até 1,5 salário mínimo (até R\\$ 1.086,00).<br>B = De 1,5 a 3 salários mínimos (R\\$ 1.086,01 a R\\$ 2.172,00).<br>C = De 3 a 4,5 salários mínimos (R\\$ 2.172,01 a R\\$ 3.258,00).<br>D = De 4,5 a 6 salários mínimos (R\\$ 3.258,01 a R\\$ 4.344,00).<br>E = De 6 a 10 salários mínimos (R\\$ 4.344,01 a R\\$ 7.240,00).<br>F = De 10 a 30 salários mínimos (R\\$ 7.240,01 a R\\$ 21.720,00).<br>G = Acima de 30 salários mínimos (mais de R\\$ 21.720,01). |\n",
    "| QE_I09 | Qual alternativa a seguir melhor descreve sua situação financeira (incluindo bolsas)? | A = Não tenho renda e meus gastos são financiados por programas governamentais.<br>B = Não tenho renda e meus gastos são financiados pela minha família ou por outras pessoas.<br>C = Tenho renda, mas recebo ajuda da família ou de outras pessoas para financiar meus gastos.<br>D = Tenho renda e não preciso de ajuda para financiar meus gastos.<br>E = Tenho renda e contribuo com o sustento da família.<br>F = Sou o principal responsável pelo sustento da família. |\n",
    "| QE_I10 | Qual alternativa a seguir melhor descreve sua situação de trabalho (exceto estágio ou bolsas)? | A = Não estou trabalhando.<br>B = Trabalho eventualmente.<br>C = Trabalho até 20 horas semanais.<br>D = Trabalho de 21 a 39 horas semanais.<br>E = Trabalho 40 horas semanais ou mais. |\n",
    "| QE_I11 | Que tipo de bolsa de estudos ou financiamento do curso você recebeu para custear todas ou a maior parte das mensalidades? No caso de haver mais de uma opção, marcar apenas a bolsa de maior duração. | A = Nenhum, pois meu curso é gratuito.<br>B = Nenhum, embora meu curso não seja gratuito.<br>C = ProUni integral.<br>D = ProUni parcial, apenas.<br>E = FIES, apenas.<br>F = ProUni Parcial e FIES.<br>G = Bolsa oferecida por governo estadual, distrital ou municipal.<br>H = Bolsa oferecida pela própria instituição.<br>I = Bolsa oferecida por outra entidade (empresa, ONG, outra).<br>J = Financiamento oferecido pela própria instituição.<br>K = Financiamento bancário. |\n",
    "| QE_I12 | Ao longo da sua trajetória acadêmica, você recebeu algum tipo de auxílio permanência? No caso de haver mais de uma opção, marcar apenas a bolsa de maior duração. | A = Nenhum.<br>B = Auxílio moradia.<br>C = Auxílio alimentação.<br>D = Auxílio moradia e alimentação.<br>E = Auxílio permanência.<br>F = Outro tipo de auxílio. |\n",
    "| QE_I13 | Ao longo da sua trajetória acadêmica, você recebeu algum tipo de bolsa acadêmica? No caso de haver mais de uma opção, marcar apenas a bolsa de maior duração. | A = Nenhum.<br>B = Bolsa de iniciação científica.<br>C = Bolsa de extensão.<br>D = Bolsa de monitoria/tutoria.<br>E = Bolsa PET.<br>F = Outro tipo de bolsa acadêmica. |\n",
    "| QE_I14 | Durante o curso de graduação você participou de programas e/ou atividades curriculares no exterior? | A = Não participei.<br>B = Sim, Programa Ciência sem Fronteiras.<br>C = Sim, programa de intercâmbio financiado pelo Governo Federal (Marca; Brafitec; PLI; outro).<br>D = Sim, programa de intercâmbio financiado pelo Governo Estadual.<br>E = Sim, programa de intercâmbio da minha instituição.<br>F = Sim, outro intercâmbio não institucional. |\n",
    "| QE_I15 | Seu ingresso no curso de graduação se deu por meio de políticas de ação afirmativa ou inclusão social? | A = Não.<br>B = Sim, por critério étnico-racial.<br>C = Sim, por critério de renda.<br>D = Sim, por ter estudado em escola pública ou particular com bolsa de estudos.<br>E = Sim, por sistema que combina dois ou mais critérios anteriores.<br>F = Sim, por sistema diferente dos anteriores. |\n",
    "| QE_I17 | Em que tipo de escola você cursou o ensino médio? | A = Todo em escola pública.<br>B = Todo em escola privada (particular).<br>C = Todo no exterior.<br>D = A maior parte em escola pública.<br>E = A maior parte em escola privada (particular).<br>F = Parte no Brasil e parte no exterior. |\n",
    "| QE_I18 | Qual modalidade de ensino médio você concluiu? | A = Ensino médio tradicional.<br>B = Profissionalizante técnico (eletrônica, contabilidade, agrícola, outro).<br>C = Profissionalizante magistério (Curso Normal).<br>D = Educação de Jovens e Adultos (EJA) e/ou Supletivo.<br>E = Outra modalidade. |\n",
    "| QE_I19 | Quem lhe deu maior incentivo para cursar a graduação? | A = Ninguém.<br>B = Pais.<br>C = Outros membros da família que não os pais.<br>D = Professores.<br>E = Líder ou representante religioso.<br>F = Colegas/Amigos.<br>G = Outras pessoas. |\n",
    "| QE_I20 | Algum dos grupos abaixo foi determinante para você enfrentar dificuldades durante seu curso superior e concluí-lo? | A = Não tive dificuldade.<br>B = Não recebi apoio para enfrentar dificuldades.<br>C = Pais.<br>D = Avós.<br>E = Irmãos, primos ou tios.<br>F = Líder ou representante religioso.<br>G = Colegas de curso ou amigos.<br>H = Professores do curso.<br>I = Profissionais do serviço de apoio ao estudante da IES.<br>J = Colegas de trabalho.<br>K = Outro grupo. |\n",
    "| QE_I21 | Alguém em sua família concluiu um curso superior? | A = Sim.<br>B = Não. |\n",
    "| QE_I22 | Excetuando-se os livros indicados na bibliografia do seu curso, quantos livros você leu neste ano? |A = Nenhum.<br>B = Um ou dois.<br>C = De três a cinco.<br>D = De seis a oito.<br>E = Mais de oito. |\n",
    "| QE_I23 | Quantas horas por semana, aproximadamente, você dedicou aos estudos, excetuando as horas de aula? | A = Nenhuma, apenas assisto às aulas.<br>B = De uma a três.<br>C = De quatro a sete.<br>D = De oito a doze.<br>E = Mais de doze. |\n",
    "| QE_I24 | Você teve oportunidade de aprendizado de idioma estrangeiro na Instituição? | A = Sim, somente na modalidade presencial.<br>B = Sim, somente na modalidade semipresencial.<br>C = Sim, parte na modalidade presencial e parte na modalidade semipresencial.<br>D = Sim, na modalidade a distância.<br>E = Não. |\n",
    "| QE_I25 | Qual o principal motivo para você ter escolhido este curso? | A = Inserção no mercado de trabalho.<br>B = Influência familiar.<br>C = Valorização profissional.<br>D = Prestígio Social.<br>E = Vocação.<br>F = Oferecido na modalidade a distância.<br>G = Baixa concorrência para ingresso.<br>H = Outro motivo. |\n",
    "| QE_I26 | Qual a principal razão para você ter escolhido a sua instituição de educação superior? | A = Gratuidade.<br>B = Preço da mensalidade.<br>C = Proximidade da minha residência.<br>D = Proximidade do meu trabalho.<br>E = Facilidade de acesso.<br>F = Qualidade/reputação.<br>G = Foi a única onde tive aprovação.<br>H = Possibilidade de ter bolsa de estudo.<br>I = Outro motivo. |"
   ]
  },
  {
   "cell_type": "markdown",
   "metadata": {
    "colab_type": "text",
    "id": "RQUlOVSIRs0p"
   },
   "source": [
    "**Questionário sobre o curso**\n",
    "\n",
    "| **Coluna** | **Descrição** | **Valores** |\n",
    "|--:|:--|:--|\n",
    "| QE_I27 | As disciplinas cursadas contribuíram para sua formação integral, como cidadão e profissional. | 1 = Discordo Totalmente a 6 = Concordo Totalmente<br>7 = Não sei responder.<br>8 = Não se aplica. |\n",
    "| QE_I28 | Os conteúdos abordados nas disciplinas do curso favoreceram sua atuação em estágios ou em atividades de iniciação profissional. | 1 = Discordo Totalmente a 6 = Concordo Totalmente<br>7 = Não sei responder.<br>8 = Não se aplica. |\n",
    "| QE_I29 | As metodologias de ensino utilizadas no curso desafiaram você a aprofundar conhecimentos e desenvolver competências reflexivas e críticas. | 1 = Discordo Totalmente a 6 = Concordo Totalmente<br>7 = Não sei responder.<br>8 = Não se aplica. |\n",
    "| QE_I30 | O curso propiciou experiências de aprendizagem inovadoras. | 1 = Discordo Totalmente a 6 = Concordo Totalmente<br>7 = Não sei responder.<br>8 = Não se aplica. |\n",
    "| QE_I31 | O curso contribuiu para o desenvolvimento da sua consciência ética para o exercício profissional. | 1 = Discordo Totalmente a 6 = Concordo Totalmente<br>7 = Não sei responder.<br>8 = Não se aplica. |\n",
    "| QE_I32 | No curso você teve oportunidade de aprender a trabalhar em equipe. | 1 = Discordo Totalmente a 6 = Concordo Totalmente<br>7 = Não sei responder.<br>8 = Não se aplica. |\n",
    "| QE_I33 | O curso possibilitou aumentar sua capacidade de reflexão e argumentação. | 1 = Discordo Totalmente a 6 = Concordo Totalmente<br>7 = Não sei responder.<br>8 = Não se aplica. |\n",
    "| QE_I34 | O curso promoveu o desenvolvimento da sua capacidade de pensar criticamente, analisar e refletir sobre soluções para problemas da sociedade. | 1 = Discordo Totalmente a 6 = Concordo Totalmente<br>7 = Não sei responder.<br>8 = Não se aplica. |\n",
    "| QE_I35 | O curso contribuiu para você ampliar sua capacidade de comunicação nas formas oral e escrita. | 1 = Discordo Totalmente a 6 = Concordo Totalmente<br>7 = Não sei responder.<br>8 = Não se aplica. |\n",
    "| QE_I36 | O curso contribuiu para o desenvolvimento da sua capacidade de aprender e atualizar-se permanentemente. | 1 = Discordo Totalmente a 6 = Concordo Totalmente<br>7 = Não sei responder.<br>8 = Não se aplica. |\n",
    "| QE_I37 | As relações professor-aluno ao longo do curso estimularam você a estudar e aprender. | 1 = Discordo Totalmente a 6 = Concordo Totalmente<br>7 = Não sei responder.<br>8 = Não se aplica. |\n",
    "| QE_I38 | Os planos de ensino apresentados pelos professores contribuíram para o desenvolvimento das atividades acadêmicas e para seus estudos. | 1 = Discordo Totalmente a 6 = Concordo Totalmente<br>7 = Não sei responder.<br>8 = Não se aplica. |\n",
    "| QE_I39 | As referências bibliográficas indicadas pelos professores nos planos de ensino contribuíram para seus estudos e aprendizagens. | 1 = Discordo Totalmente a 6 = Concordo Totalmente<br>7 = Não sei responder.<br>8 = Não se aplica. |\n",
    "| QE_I40 | Foram oferecidas oportunidades para os estudantes superarem dificuldades relacionadas ao processo de formação. | 1 = Discordo Totalmente a 6 = Concordo Totalmente<br>7 = Não sei responder.<br>8 = Não se aplica. |\n",
    "| QE_I41 | A coordenação do curso esteve disponível para orientação acadêmica dos estudantes. | 1 = Discordo Totalmente a 6 = Concordo Totalmente<br>7 = Não sei responder.<br>8 = Não se aplica. |\n",
    "| QE_I42 | O curso exigiu de você organização e dedicação frequente aos estudos. | 1 = Discordo Totalmente a 6 = Concordo Totalmente<br>7 = Não sei responder.<br>8 = Não se aplica. |\n",
    "| QE_I43 | Foram oferecidas oportunidades para os estudantes participarem de programas, projetos ou atividades de extensão universitária. | 1 = Discordo Totalmente a 6 = Concordo Totalmente<br>7 = Não sei responder.<br>8 = Não se aplica. |\n",
    "| QE_I44 | Foram oferecidas oportunidades para os estudantes participarem de projetos de iniciação científica e de atividades que estimularam a investigação acadêmica. | 1 = Discordo Totalmente a 6 = Concordo Totalmente<br>7 = Não sei responder.<br>8 = Não se aplica. |\n",
    "| QE_I45 | O curso ofereceu condições para os estudantes participarem de eventos internos e/ou externos à instituição. | 1 = Discordo Totalmente a 6 = Concordo Totalmente<br>7 = Não sei responder.<br>8 = Não se aplica. |\n",
    "| QE_I46 | A instituição ofereceu oportunidades para os estudantes atuarem como representantes em órgãos colegiados. | 1 = Discordo Totalmente a 6 = Concordo Totalmente<br>7 = Não sei responder.<br>8 = Não se aplica. |\n",
    "| QE_I47 | O curso favoreceu a articulação do conhecimento teórico com atividades práticas. | 1 = Discordo Totalmente a 6 = Concordo Totalmente<br>7 = Não sei responder.<br>8 = Não se aplica. |\n",
    "| QE_I48 | As atividades práticas foram suficientes para relacionar os conteúdos do curso com a prática, contribuindo para sua formação profissional. | 1 = Discordo Totalmente a 6 = Concordo Totalmente<br>7 = Não sei responder.<br>8 = Não se aplica. |\n",
    "| QE_I49 | O curso propiciou acesso a conhecimentos atualizados e/ou contemporâneos em sua área de formação. | 1 = Discordo Totalmente a 6 = Concordo Totalmente<br>7 = Não sei responder.<br>8 = Não se aplica. |\n",
    "| QE_I50 | O estágio supervisionado proporcionou experiências diversificadas para a sua formação. | 1 = Discordo Totalmente a 6 = Concordo Totalmente<br>7 = Não sei responder.<br>8 = Não se aplica. |\n",
    "| QE_I51 | As atividades realizadas durante seu trabalho de conclusão de curso contribuíram para qualificar sua formação profissional | 1 = Discordo Totalmente a 6 = Concordo Totalmente<br>7 = Não sei responder.<br>8 = Não se aplica. |\n",
    "| QE_I52 | Foram oferecidas oportunidades para os estudantes realizarem intercâmbios e/ou estágios no país. | 1 = Discordo Totalmente a 6 = Concordo Totalmente<br>7 = Não sei responder.<br>8 = Não se aplica. |\n",
    "| QE_I53 | Foram oferecidas oportunidades para os estudantes realizarem intercâmbios e/ou estágios fora do país. | 1 = Discordo Totalmente a 6 = Concordo Totalmente<br>7 = Não sei responder.<br>8 = Não se aplica. |\n",
    "| QE_I54 | Os estudantes participaram de avaliações periódicas do curso (disciplinas, atuação dos professores, infraestrutura). | 1 = Discordo Totalmente a 6 = Concordo Totalmente<br>7 = Não sei responder.<br>8 = Não se aplica. |\n",
    "| QE_I55 | As avaliações da aprendizagem realizadas durante o curso foram compatíveis com os conteúdos ou temas trabalhados pelos professores. | 1 = Discordo Totalmente a 6 = Concordo Totalmente<br>7 = Não sei responder.<br>8 = Não se aplica. |\n",
    "| QE_I56 | Os professores apresentaram disponibilidade para atender os estudantes fora do horário das aulas. | 1 = Discordo Totalmente a 6 = Concordo Totalmente<br>7 = Não sei responder.<br>8 = Não se aplica. |\n",
    "| QE_I57 | Os professores demonstraram domínio dos conteúdos abordados nas disciplinas. | 1 = Discordo Totalmente a 6 = Concordo Totalmente<br>7 = Não sei responder.<br>8 = Não se aplica. |\n",
    "| QE_I58 | Os professores utilizaram tecnologias da informação e comunicação (TICs) como estratégia de ensino (projetor multimídia, laboratório de informática, ambiente virtual de aprendizagem). | 1 = Discordo Totalmente a 6 = Concordo Totalmente<br>7 = Não sei responder.<br>8 = Não se aplica. |\n",
    "| QE_I59 | A instituição dispôs de quantidade suficiente de funcionários para o apoio administrativo e acadêmico. | 1 = Discordo Totalmente a 6 = Concordo Totalmente<br>7 = Não sei responder.<br>8 = Não se aplica. |\n",
    "| QE_I60 | O curso disponibilizou monitores ou tutores para auxiliar os estudantes. | 1 = Discordo Totalmente a 6 = Concordo Totalmente<br>7 = Não sei responder.<br>8 = Não se aplica. |\n",
    "| QE_I61 | As condições de infraestrutura das salas de aula foram adequadas. | 1 = Discordo Totalmente a 6 = Concordo Totalmente<br>7 = Não sei responder.<br>8 = Não se aplica. |\n",
    "| QE_I62 | Os equipamentos e materiais disponíveis para as aulas práticas foram adequados para a quantidade de estudantes. | 1 = Discordo Totalmente a 6 = Concordo Totalmente<br>7 = Não sei responder.<br>8 = Não se aplica. |\n",
    "| QE_I63 | Os ambientes e equipamentos destinados às aulas práticas foram adequados ao curso. | 1 = Discordo Totalmente a 6 = Concordo Totalmente<br>7 = Não sei responder.<br>8 = Não se aplica. |\n",
    "| QE_I64 | A biblioteca dispôs das referências bibliográficas que os estudantes necessitaram. |1 = Discordo Totalmente a 6 = Concordo Totalmente<br>7 = Não sei responder.<br>8 = Não se aplica. |\n",
    "| QE_I65 | A instituição contou com biblioteca virtual ou conferiu acesso a obras disponíveis em acervos virtuais. | 1 = Discordo Totalmente a 6 = Concordo Totalmente<br>7 = Não sei responder.<br>8 = Não se aplica. |\n",
    "| QE_I66 | As atividades acadêmicas desenvolvidas dentro e fora da sala de aula possibilitaram reflexão, convivência e respeito à diversidade. | 1 = Discordo Totalmente a 6 = Concordo Totalmente<br>7 = Não sei responder.<br>8 = Não se aplica. |\n",
    "| QE_I67 | A instituição promoveu atividades de cultura, de lazer e de interação social. | 1 = Discordo Totalmente a 6 = Concordo Totalmente<br>7 = Não sei responder.<br>8 = Não se aplica. |\n",
    "| QE_I68 | A instituição dispôs de refeitório, cantina e banheiros em condições adequadas que atenderam as necessidades dos seus usuários. | 1 = Discordo Totalmente a 6 = Concordo Totalmente<br>7 = Não sei responder.<br>8 = Não se aplica. |"
   ]
  }
 ],
 "metadata": {
  "colab": {
   "collapsed_sections": [
    "eJpBym1LRszR",
    "m4_sCcKkRszj",
    "KDzYsiN9Rszv",
    "xOUgyBT8Rsz5",
    "dcNDt9KMRsz9",
    "TOkHMHlmRs0A",
    "R26K4KXURs0E"
   ],
   "default_view": {},
   "name": "ENADE 2014 Lista Prática.ipynb",
   "provenance": [],
   "version": "0.3.2",
   "views": {}
  },
  "kernelspec": {
   "display_name": "Python 2",
   "language": "python2",
   "name": "python2"
  },
  "language_info": {
   "codemirror_mode": {
    "name": "ipython",
    "version": 2
   },
   "file_extension": ".py",
   "mimetype": "text/x-python",
   "name": "python",
   "nbconvert_exporter": "python",
   "pygments_lexer": "ipython2",
   "version": "2.7.15"
  }
 },
 "nbformat": 4,
 "nbformat_minor": 1
}
